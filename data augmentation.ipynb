{
 "cells": [
  {
   "cell_type": "code",
   "execution_count": 1,
   "id": "3c09bd22-2910-4f9e-b385-3d0eba2cf527",
   "metadata": {},
   "outputs": [
    {
     "ename": "FileNotFoundError",
     "evalue": "[Errno 2] No such file or directory: ' '",
     "output_type": "error",
     "traceback": [
      "\u001b[1;31m---------------------------------------------------------------------------\u001b[0m",
      "\u001b[1;31mFileNotFoundError\u001b[0m                         Traceback (most recent call last)",
      "Cell \u001b[1;32mIn[1], line 22\u001b[0m\n\u001b[0;32m     20\u001b[0m \u001b[38;5;66;03m# Load an example image\u001b[39;00m\n\u001b[0;32m     21\u001b[0m img_path \u001b[38;5;241m=\u001b[39m \u001b[38;5;124m\"\u001b[39m\u001b[38;5;124m \u001b[39m\u001b[38;5;124m\"\u001b[39m  \u001b[38;5;66;03m# Change to your image path\u001b[39;00m\n\u001b[1;32m---> 22\u001b[0m img \u001b[38;5;241m=\u001b[39m tf\u001b[38;5;241m.\u001b[39mkeras\u001b[38;5;241m.\u001b[39mpreprocessing\u001b[38;5;241m.\u001b[39mimage\u001b[38;5;241m.\u001b[39mload_img(img_path)\n\u001b[0;32m     23\u001b[0m img_array \u001b[38;5;241m=\u001b[39m tf\u001b[38;5;241m.\u001b[39mkeras\u001b[38;5;241m.\u001b[39mpreprocessing\u001b[38;5;241m.\u001b[39mimage\u001b[38;5;241m.\u001b[39mimg_to_array(img)\n\u001b[0;32m     24\u001b[0m img_array \u001b[38;5;241m=\u001b[39m img_array\u001b[38;5;241m.\u001b[39mreshape((\u001b[38;5;241m1\u001b[39m,) \u001b[38;5;241m+\u001b[39m img_array\u001b[38;5;241m.\u001b[39mshape)  \u001b[38;5;66;03m# Reshape for the generator\u001b[39;00m\n",
      "File \u001b[1;32m~\\anaconda3\\Lib\\site-packages\\keras\\src\\utils\\image_utils.py:235\u001b[0m, in \u001b[0;36mload_img\u001b[1;34m(path, color_mode, target_size, interpolation, keep_aspect_ratio)\u001b[0m\n\u001b[0;32m    233\u001b[0m     \u001b[38;5;28;01mif\u001b[39;00m \u001b[38;5;28misinstance\u001b[39m(path, pathlib\u001b[38;5;241m.\u001b[39mPath):\n\u001b[0;32m    234\u001b[0m         path \u001b[38;5;241m=\u001b[39m \u001b[38;5;28mstr\u001b[39m(path\u001b[38;5;241m.\u001b[39mresolve())\n\u001b[1;32m--> 235\u001b[0m     \u001b[38;5;28;01mwith\u001b[39;00m \u001b[38;5;28mopen\u001b[39m(path, \u001b[38;5;124m\"\u001b[39m\u001b[38;5;124mrb\u001b[39m\u001b[38;5;124m\"\u001b[39m) \u001b[38;5;28;01mas\u001b[39;00m f:\n\u001b[0;32m    236\u001b[0m         img \u001b[38;5;241m=\u001b[39m pil_image\u001b[38;5;241m.\u001b[39mopen(io\u001b[38;5;241m.\u001b[39mBytesIO(f\u001b[38;5;241m.\u001b[39mread()))\n\u001b[0;32m    237\u001b[0m \u001b[38;5;28;01melse\u001b[39;00m:\n",
      "\u001b[1;31mFileNotFoundError\u001b[0m: [Errno 2] No such file or directory: ' '"
     ]
    }
   ],
   "source": [
    "\n",
    "import tensorflow as tf\n",
    "from tensorflow.keras.preprocessing.image import ImageDataGenerator\n",
    "import matplotlib.pyplot as plt\n",
    "\n",
    "# Function to adjust saturation\n",
    "def adjust_saturation(image, factor):\n",
    "    return tf.image.adjust_saturation(image, factor)\n",
    "\n",
    "# Function to display images with titles\n",
    "def display_images(images, titles):\n",
    "    num_images = len(images)\n",
    "    plt.figure(figsize=(15, 10))\n",
    "    for i, (img, title) in enumerate(zip(images, titles)):\n",
    "        plt.subplot(2, (num_images + 1) // 2, i + 1)  # Dynamic grid size\n",
    "        plt.imshow(tf.keras.preprocessing.image.array_to_img(img))\n",
    "        plt.title(title)\n",
    "        plt.axis('off')\n",
    "    plt.show()\n",
    "\n",
    "# Load an example image\n",
    "img_path = \" \"  # Change to your image path\n",
    "img = tf.keras.preprocessing.image.load_img(img_path)\n",
    "img_array = tf.keras.preprocessing.image.img_to_array(img)\n",
    "img_array = img_array.reshape((1,) + img_array.shape)  # Reshape for the generator\n",
    "\n",
    "# Display the original image\n",
    "original_images = [img_array[0]]\n",
    "titles = ['Original Image']\n",
    "\n",
    "# Define geometric transformations with specific titles\n",
    "transformations = [\n",
    "    ('Rotation', ImageDataGenerator(rotation_range=40)),\n",
    "    ('Width Shift', ImageDataGenerator(width_shift_range=0.2)),\n",
    "    ('Height Shift', ImageDataGenerator(height_shift_range=0.2)),\n",
    "    ('Shear', ImageDataGenerator(shear_range=0.2)),\n",
    "    ('Zoom', ImageDataGenerator(zoom_range=0.2)),\n",
    "    ('Horizontal Flip', ImageDataGenerator(horizontal_flip=True))\n",
    "]\n",
    "\n",
    "# Apply each geometric transformation\n",
    "for title, generator in transformations:\n",
    "    for batch in generator.flow(img_array, batch_size=1):\n",
    "        original_images.append(batch[0])  # Store transformed image\n",
    "        titles.append(title)  # Only the operation name\n",
    "        break  # Only take the first batch\n",
    "\n",
    "# Generate color transformed images (brightness and saturation)\n",
    "brightness_factors = [0.5, 1.0, 1.5]  # Brightness adjustment factors\n",
    "for brightness_factor in brightness_factors:\n",
    "    # Adjust brightness\n",
    "    brightness_image = tf.image.adjust_brightness(img_array[0], delta=brightness_factor - 1.0)\n",
    "    original_images.append(brightness_image)  # Store transformed image\n",
    "    titles.append(f'Brightness: {brightness_factor}')\n",
    "\n",
    "# Adjust saturation (keep it constant for demonstration)\n",
    "saturation_image = adjust_saturation(img_array[0], factor=1.5)  # Change saturation factor\n",
    "original_images.append(saturation_image)  # Store transformed image\n",
    "titles.append('Saturation Adjustment')\n",
    "\n",
    "# Display all images with titles\n",
    "display_images(original_images, titles)\n"
   ]
  }
 ],
 "metadata": {
  "kernelspec": {
   "display_name": "Python 3 (ipykernel)",
   "language": "python",
   "name": "python3"
  },
  "language_info": {
   "codemirror_mode": {
    "name": "ipython",
    "version": 3
   },
   "file_extension": ".py",
   "mimetype": "text/x-python",
   "name": "python",
   "nbconvert_exporter": "python",
   "pygments_lexer": "ipython3",
   "version": "3.12.4"
  }
 },
 "nbformat": 4,
 "nbformat_minor": 5
}
